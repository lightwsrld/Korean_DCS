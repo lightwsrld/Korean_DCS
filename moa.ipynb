{
 "cells": [
  {
   "cell_type": "code",
   "execution_count": 1,
   "metadata": {},
   "outputs": [],
   "source": [
    "import json, copy"
   ]
  },
  {
   "cell_type": "code",
   "execution_count": 8,
   "metadata": {},
   "outputs": [],
   "source": [
    "with open(\"/home/jhlee/Korean_DCS_2024/resource/data/일상대화요약_test.json\") as f:\n",
    "    test = json.load(f)\n",
    "speaker_1 = copy.deepcopy(test)\n",
    "speaker_2 = copy.deepcopy(test)\n",
    "for n in range(len(test)):\n",
    "    speaker_1_total = [i for i in test[n][\"input\"][\"conversation\"] if i[\"speaker\"] == test[n][\"input\"][\"conversation\"][0][\"speaker\"]]\n",
    "    speaker_1[n][\"input\"][\"conversation\"] = speaker_1_total\n",
    "    speaker_1[n][\"output\"] = test[n][\"output\"].split(\".\")[1]\n",
    "    speaker_2_total = [i for i in test[n][\"input\"][\"conversation\"] if i[\"speaker\"] != test[n][\"input\"][\"conversation\"][0][\"speaker\"]]\n",
    "    speaker_2[n][\"input\"][\"conversation\"] = speaker_2_total\n",
    "    speaker_2[n][\"output\"] = test[n][\"output\"].split(\".\")[2]\n",
    "with open(\"/home/jhlee/Korean_DCS_2024/resource/data/일상대화요약_test_speaker_1.json\", \"w\") as f:\n",
    "    json.dump(speaker_1, f, ensure_ascii = False, indent = 4)\n",
    "with open(\"/home/jhlee/Korean_DCS_2024/resource/data/일상대화요약_test_speaker_2.json\", \"w\") as f:\n",
    "    json.dump(speaker_2, f, ensure_ascii = False, indent = 4)"
   ]
  },
  {
   "cell_type": "code",
   "execution_count": 6,
   "metadata": {},
   "outputs": [],
   "source": []
  },
  {
   "cell_type": "code",
   "execution_count": 50,
   "metadata": {},
   "outputs": [
    {
     "data": {
      "text/plain": [
       "{'id': 'nikluge-2024-일상 대화 요약-train-000001',\n",
       " 'input': {'conversation': [{'speaker': 'SD2000001',\n",
       "    'utterance': '저는 여행 다니는 것을 굉장히 좋아하는데요. 그래가지고 스페인이나 뭐 영국 유럽 아니면 국내에서도 뭐 강릉이나 전주 같은 데를 많이 다녔는데'},\n",
       "   {'speaker': 'SD2000001', 'utterance': '혹시 여행 다니는 거 좋아하시나요?'},\n",
       "   {'speaker': 'SD2000001', 'utterance': '어~ 네. 저도 우연히 스페인과 포르투갈을 다녀왔었었습니다.'},\n",
       "   {'speaker': 'SD2000001',\n",
       "    'utterance': '어~ 저는 스페인 중에서도 마드리드에 근교에 있었던 톨레도라는 지역이 굉장히 좋았는데요. 그 톨레도에서 특히 기억에 남았던 거는 거기에 대성당이 있는데 그 성당이 엄청 화려하더라고요. 그래서 거기를 꾸며논 거를 보면은 금을 엄청 많이 사용해가지고 되게 빤짝빤짝하고 좀 성당은 보통 좀 소박하다라는 인식이 있었는데 아~ 이렇게 화려한 성당도 있구나라는 거를 새롭게 알게 됐었습니다.'},\n",
       "   {'speaker': 'SD2000001',\n",
       "    'utterance': '어~ 또 톨레도에 지역 음식도 같이 먹었었는데 아~ 이름은 지금 잘 생각이 나지는 않지만 굉장히 달달했던 그런 디저트 종류였는데 그~ 디저트도 먹고 그다음에 천천히 걸어 다니면서 주변 풍경도 보고 근교 여행만의 약간 소박한 맛이 있었다고 생각을 합니다.'},\n",
       "   {'speaker': 'SD2000001',\n",
       "    'utterance': '어~ 또 물론 마드리드도 굉장히 좋았는데 유럽 여행을 많이 가셨다고 해서 혹시 톨레도도 가본 적이 있나요?'}],\n",
       "  'subject_keyword': ['해외여행']},\n",
       " 'output': ' SD2000001은 여행을 좋아하여 국내, 해외 여행을 많이 다녔다고 말했습니다'}"
      ]
     },
     "execution_count": 50,
     "metadata": {},
     "output_type": "execute_result"
    }
   ],
   "source": [
    "speaker_1"
   ]
  },
  {
   "cell_type": "code",
   "execution_count": null,
   "metadata": {},
   "outputs": [],
   "source": []
  }
 ],
 "metadata": {
  "kernelspec": {
   "display_name": "base",
   "language": "python",
   "name": "python3"
  },
  "language_info": {
   "codemirror_mode": {
    "name": "ipython",
    "version": 3
   },
   "file_extension": ".py",
   "mimetype": "text/x-python",
   "name": "python",
   "nbconvert_exporter": "python",
   "pygments_lexer": "ipython3",
   "version": "3.11.7"
  }
 },
 "nbformat": 4,
 "nbformat_minor": 2
}
